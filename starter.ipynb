{
 "cells": [
  {
   "cell_type": "code",
   "execution_count": 1,
   "id": "2c51efaa",
   "metadata": {
    "pycharm": {
     "name": "#%%\n"
    }
   },
   "outputs": [
    {
     "name": "stdout",
     "output_type": "stream",
     "text": [
      "scikit-learn==1.1.1\r\n"
     ]
    }
   ],
   "source": [
    "!pip freeze | grep scikit-learn"
   ]
  },
  {
   "cell_type": "code",
   "execution_count": 2,
   "id": "0ef880a0",
   "metadata": {
    "pycharm": {
     "name": "#%%\n"
    }
   },
   "outputs": [],
   "source": [
    "import pickle\n",
    "import pandas as pd\n",
    "import numpy as np\n",
    "import datetime"
   ]
  },
  {
   "cell_type": "code",
   "execution_count": 3,
   "id": "7836ccfd",
   "metadata": {
    "pycharm": {
     "name": "#%%\n"
    }
   },
   "outputs": [
    {
     "name": "stderr",
     "output_type": "stream",
     "text": [
      "/Users/murathansaygili/Desktop/MLOpsZoomCamp/venv/lib/python3.9/site-packages/sklearn/base.py:329: UserWarning: Trying to unpickle estimator DictVectorizer from version 1.0.2 when using version 1.1.1. This might lead to breaking code or invalid results. Use at your own risk. For more info please refer to:\n",
      "https://scikit-learn.org/stable/model_persistence.html#security-maintainability-limitations\n",
      "  warnings.warn(\n",
      "/Users/murathansaygili/Desktop/MLOpsZoomCamp/venv/lib/python3.9/site-packages/sklearn/base.py:329: UserWarning: Trying to unpickle estimator LinearRegression from version 1.0.2 when using version 1.1.1. This might lead to breaking code or invalid results. Use at your own risk. For more info please refer to:\n",
      "https://scikit-learn.org/stable/model_persistence.html#security-maintainability-limitations\n",
      "  warnings.warn(\n"
     ]
    }
   ],
   "source": [
    "with open('model.bin', 'rb') as f_in:\n",
    "    dv, lr = pickle.load(f_in)"
   ]
  },
  {
   "cell_type": "code",
   "execution_count": 4,
   "id": "41c08294",
   "metadata": {
    "pycharm": {
     "name": "#%%\n"
    }
   },
   "outputs": [],
   "source": [
    "categorical = ['PUlocationID', 'DOlocationID']\n",
    "\n",
    "def read_data(filename):\n",
    "    df = pd.read_parquet(filename)\n",
    "    \n",
    "    df['duration'] = df.dropOff_datetime - df.pickup_datetime\n",
    "    df['duration'] = df.duration.dt.total_seconds() / 60\n",
    "\n",
    "    df = df[(df.duration >= 1) & (df.duration <= 60)].copy()\n",
    "\n",
    "    df[categorical] = df[categorical].fillna(-1).astype('int').astype('str')\n",
    "    \n",
    "    return df"
   ]
  },
  {
   "cell_type": "code",
   "execution_count": 5,
   "id": "4854399a",
   "metadata": {
    "pycharm": {
     "name": "#%%\n"
    }
   },
   "outputs": [],
   "source": [
    "df=read_data('./data/fhv_tripdata_2021-02.parquet')"
   ]
  },
  {
   "cell_type": "code",
   "execution_count": 6,
   "outputs": [],
   "source": [
    "dicts = df[categorical].to_dict(orient='records')\n",
    "X_val = dv.transform(dicts)\n",
    "y_pred = lr.predict(X_val)"
   ],
   "metadata": {
    "collapsed": false,
    "pycharm": {
     "name": "#%%\n"
    }
   }
  },
  {
   "cell_type": "code",
   "execution_count": 7,
   "outputs": [
    {
     "name": "stdout",
     "output_type": "stream",
     "text": [
      "16.191691679979066\n"
     ]
    }
   ],
   "source": [
    "print(y_pred.mean())"
   ],
   "metadata": {
    "collapsed": false,
    "pycharm": {
     "name": "#%%\n"
    }
   }
  },
  {
   "cell_type": "code",
   "execution_count": 8,
   "outputs": [
    {
     "data": {
      "text/plain": "        dispatching_base_num     pickup_datetime    dropOff_datetime  \\\n1            B00021          2021-02-01 00:55:40 2021-02-01 01:06:20   \n2            B00021          2021-02-01 00:14:03 2021-02-01 00:28:37   \n3            B00021          2021-02-01 00:27:48 2021-02-01 00:35:45   \n4                     B00037 2021-02-01 00:12:50 2021-02-01 00:26:38   \n5                     B00037 2021-02-01 00:00:37 2021-02-01 00:09:35   \n...                      ...                 ...                 ...   \n1037687               B03282 2021-02-28 23:01:16 2021-02-28 23:14:48   \n1037688               B03282 2021-02-28 23:36:10 2021-02-28 23:47:38   \n1037689      B03285          2021-02-28 23:18:36 2021-02-28 23:43:59   \n1037690      B03285          2021-02-28 23:26:34 2021-02-28 23:44:37   \n1037691      B03285          2021-02-28 23:24:00 2021-02-28 23:40:00   \n\n        PUlocationID DOlocationID SR_Flag Affiliated_base_number   duration  \n1                173           82    None        B00021           10.666667  \n2                173           56    None        B00021           14.566667  \n3                 82          129    None        B00021            7.950000  \n4                 -1          225    None                 B00037  13.800000  \n5                 -1           61    None                 B00037   8.966667  \n...              ...          ...     ...                    ...        ...  \n1037687           -1           31    None                 B01717  13.533333  \n1037688           -1          169    None                 B01717  11.466667  \n1037689           28          171    None        B03285           25.383333  \n1037690           16          252    None        B03285           18.050000  \n1037691          171          135    None        B03285           16.000000  \n\n[990113 rows x 8 columns]",
      "text/html": "<div>\n<style scoped>\n    .dataframe tbody tr th:only-of-type {\n        vertical-align: middle;\n    }\n\n    .dataframe tbody tr th {\n        vertical-align: top;\n    }\n\n    .dataframe thead th {\n        text-align: right;\n    }\n</style>\n<table border=\"1\" class=\"dataframe\">\n  <thead>\n    <tr style=\"text-align: right;\">\n      <th></th>\n      <th>dispatching_base_num</th>\n      <th>pickup_datetime</th>\n      <th>dropOff_datetime</th>\n      <th>PUlocationID</th>\n      <th>DOlocationID</th>\n      <th>SR_Flag</th>\n      <th>Affiliated_base_number</th>\n      <th>duration</th>\n    </tr>\n  </thead>\n  <tbody>\n    <tr>\n      <th>1</th>\n      <td>B00021</td>\n      <td>2021-02-01 00:55:40</td>\n      <td>2021-02-01 01:06:20</td>\n      <td>173</td>\n      <td>82</td>\n      <td>None</td>\n      <td>B00021</td>\n      <td>10.666667</td>\n    </tr>\n    <tr>\n      <th>2</th>\n      <td>B00021</td>\n      <td>2021-02-01 00:14:03</td>\n      <td>2021-02-01 00:28:37</td>\n      <td>173</td>\n      <td>56</td>\n      <td>None</td>\n      <td>B00021</td>\n      <td>14.566667</td>\n    </tr>\n    <tr>\n      <th>3</th>\n      <td>B00021</td>\n      <td>2021-02-01 00:27:48</td>\n      <td>2021-02-01 00:35:45</td>\n      <td>82</td>\n      <td>129</td>\n      <td>None</td>\n      <td>B00021</td>\n      <td>7.950000</td>\n    </tr>\n    <tr>\n      <th>4</th>\n      <td>B00037</td>\n      <td>2021-02-01 00:12:50</td>\n      <td>2021-02-01 00:26:38</td>\n      <td>-1</td>\n      <td>225</td>\n      <td>None</td>\n      <td>B00037</td>\n      <td>13.800000</td>\n    </tr>\n    <tr>\n      <th>5</th>\n      <td>B00037</td>\n      <td>2021-02-01 00:00:37</td>\n      <td>2021-02-01 00:09:35</td>\n      <td>-1</td>\n      <td>61</td>\n      <td>None</td>\n      <td>B00037</td>\n      <td>8.966667</td>\n    </tr>\n    <tr>\n      <th>...</th>\n      <td>...</td>\n      <td>...</td>\n      <td>...</td>\n      <td>...</td>\n      <td>...</td>\n      <td>...</td>\n      <td>...</td>\n      <td>...</td>\n    </tr>\n    <tr>\n      <th>1037687</th>\n      <td>B03282</td>\n      <td>2021-02-28 23:01:16</td>\n      <td>2021-02-28 23:14:48</td>\n      <td>-1</td>\n      <td>31</td>\n      <td>None</td>\n      <td>B01717</td>\n      <td>13.533333</td>\n    </tr>\n    <tr>\n      <th>1037688</th>\n      <td>B03282</td>\n      <td>2021-02-28 23:36:10</td>\n      <td>2021-02-28 23:47:38</td>\n      <td>-1</td>\n      <td>169</td>\n      <td>None</td>\n      <td>B01717</td>\n      <td>11.466667</td>\n    </tr>\n    <tr>\n      <th>1037689</th>\n      <td>B03285</td>\n      <td>2021-02-28 23:18:36</td>\n      <td>2021-02-28 23:43:59</td>\n      <td>28</td>\n      <td>171</td>\n      <td>None</td>\n      <td>B03285</td>\n      <td>25.383333</td>\n    </tr>\n    <tr>\n      <th>1037690</th>\n      <td>B03285</td>\n      <td>2021-02-28 23:26:34</td>\n      <td>2021-02-28 23:44:37</td>\n      <td>16</td>\n      <td>252</td>\n      <td>None</td>\n      <td>B03285</td>\n      <td>18.050000</td>\n    </tr>\n    <tr>\n      <th>1037691</th>\n      <td>B03285</td>\n      <td>2021-02-28 23:24:00</td>\n      <td>2021-02-28 23:40:00</td>\n      <td>171</td>\n      <td>135</td>\n      <td>None</td>\n      <td>B03285</td>\n      <td>16.000000</td>\n    </tr>\n  </tbody>\n</table>\n<p>990113 rows × 8 columns</p>\n</div>"
     },
     "execution_count": 8,
     "metadata": {},
     "output_type": "execute_result"
    }
   ],
   "source": [
    "df"
   ],
   "metadata": {
    "collapsed": false,
    "pycharm": {
     "name": "#%%\n"
    }
   }
  },
  {
   "cell_type": "code",
   "execution_count": 9,
   "outputs": [],
   "source": [
    "year = pd.DatetimeIndex(df['pickup_datetime']).year\n",
    "month = pd.DatetimeIndex(df['pickup_datetime']).month\n",
    "\n",
    "year = year.astype(str)\n",
    "month = month.astype(str)\n",
    "\n",
    "# df['ride_id'] = f'2021/02_' + df.index.astype('str')"
   ],
   "metadata": {
    "collapsed": false,
    "pycharm": {
     "name": "#%%\n"
    }
   }
  },
  {
   "cell_type": "code",
   "execution_count": 10,
   "outputs": [],
   "source": [
    "df[\"ride_id\"]=df.apply(lambda x: f'{x.pickup_datetime.year}/{x.pickup_datetime.month}_'+str(x.name),axis=1)"
   ],
   "metadata": {
    "collapsed": false,
    "pycharm": {
     "name": "#%%\n"
    }
   }
  },
  {
   "cell_type": "code",
   "execution_count": 11,
   "outputs": [],
   "source": [
    "df[\"pred\"]=y_pred"
   ],
   "metadata": {
    "collapsed": false,
    "pycharm": {
     "name": "#%%\n"
    }
   }
  },
  {
   "cell_type": "code",
   "execution_count": 12,
   "outputs": [
    {
     "data": {
      "text/plain": "        dispatching_base_num     pickup_datetime    dropOff_datetime  \\\n1            B00021          2021-02-01 00:55:40 2021-02-01 01:06:20   \n2            B00021          2021-02-01 00:14:03 2021-02-01 00:28:37   \n3            B00021          2021-02-01 00:27:48 2021-02-01 00:35:45   \n4                     B00037 2021-02-01 00:12:50 2021-02-01 00:26:38   \n5                     B00037 2021-02-01 00:00:37 2021-02-01 00:09:35   \n...                      ...                 ...                 ...   \n1037687               B03282 2021-02-28 23:01:16 2021-02-28 23:14:48   \n1037688               B03282 2021-02-28 23:36:10 2021-02-28 23:47:38   \n1037689      B03285          2021-02-28 23:18:36 2021-02-28 23:43:59   \n1037690      B03285          2021-02-28 23:26:34 2021-02-28 23:44:37   \n1037691      B03285          2021-02-28 23:24:00 2021-02-28 23:40:00   \n\n        PUlocationID DOlocationID SR_Flag Affiliated_base_number   duration  \\\n1                173           82    None        B00021           10.666667   \n2                173           56    None        B00021           14.566667   \n3                 82          129    None        B00021            7.950000   \n4                 -1          225    None                 B00037  13.800000   \n5                 -1           61    None                 B00037   8.966667   \n...              ...          ...     ...                    ...        ...   \n1037687           -1           31    None                 B01717  13.533333   \n1037688           -1          169    None                 B01717  11.466667   \n1037689           28          171    None        B03285           25.383333   \n1037690           16          252    None        B03285           18.050000   \n1037691          171          135    None        B03285           16.000000   \n\n                ride_id       pred  \n1              2021/2_1  14.539865  \n2              2021/2_2  13.740422  \n3              2021/2_3  15.593339  \n4              2021/2_4  15.188118  \n5              2021/2_5  13.817206  \n...                 ...        ...  \n1037687  2021/2_1037687  12.433246  \n1037688  2021/2_1037688  12.910885  \n1037689  2021/2_1037689  15.834923  \n1037690  2021/2_1037690  16.783176  \n1037691  2021/2_1037691  19.654626  \n\n[990113 rows x 10 columns]",
      "text/html": "<div>\n<style scoped>\n    .dataframe tbody tr th:only-of-type {\n        vertical-align: middle;\n    }\n\n    .dataframe tbody tr th {\n        vertical-align: top;\n    }\n\n    .dataframe thead th {\n        text-align: right;\n    }\n</style>\n<table border=\"1\" class=\"dataframe\">\n  <thead>\n    <tr style=\"text-align: right;\">\n      <th></th>\n      <th>dispatching_base_num</th>\n      <th>pickup_datetime</th>\n      <th>dropOff_datetime</th>\n      <th>PUlocationID</th>\n      <th>DOlocationID</th>\n      <th>SR_Flag</th>\n      <th>Affiliated_base_number</th>\n      <th>duration</th>\n      <th>ride_id</th>\n      <th>pred</th>\n    </tr>\n  </thead>\n  <tbody>\n    <tr>\n      <th>1</th>\n      <td>B00021</td>\n      <td>2021-02-01 00:55:40</td>\n      <td>2021-02-01 01:06:20</td>\n      <td>173</td>\n      <td>82</td>\n      <td>None</td>\n      <td>B00021</td>\n      <td>10.666667</td>\n      <td>2021/2_1</td>\n      <td>14.539865</td>\n    </tr>\n    <tr>\n      <th>2</th>\n      <td>B00021</td>\n      <td>2021-02-01 00:14:03</td>\n      <td>2021-02-01 00:28:37</td>\n      <td>173</td>\n      <td>56</td>\n      <td>None</td>\n      <td>B00021</td>\n      <td>14.566667</td>\n      <td>2021/2_2</td>\n      <td>13.740422</td>\n    </tr>\n    <tr>\n      <th>3</th>\n      <td>B00021</td>\n      <td>2021-02-01 00:27:48</td>\n      <td>2021-02-01 00:35:45</td>\n      <td>82</td>\n      <td>129</td>\n      <td>None</td>\n      <td>B00021</td>\n      <td>7.950000</td>\n      <td>2021/2_3</td>\n      <td>15.593339</td>\n    </tr>\n    <tr>\n      <th>4</th>\n      <td>B00037</td>\n      <td>2021-02-01 00:12:50</td>\n      <td>2021-02-01 00:26:38</td>\n      <td>-1</td>\n      <td>225</td>\n      <td>None</td>\n      <td>B00037</td>\n      <td>13.800000</td>\n      <td>2021/2_4</td>\n      <td>15.188118</td>\n    </tr>\n    <tr>\n      <th>5</th>\n      <td>B00037</td>\n      <td>2021-02-01 00:00:37</td>\n      <td>2021-02-01 00:09:35</td>\n      <td>-1</td>\n      <td>61</td>\n      <td>None</td>\n      <td>B00037</td>\n      <td>8.966667</td>\n      <td>2021/2_5</td>\n      <td>13.817206</td>\n    </tr>\n    <tr>\n      <th>...</th>\n      <td>...</td>\n      <td>...</td>\n      <td>...</td>\n      <td>...</td>\n      <td>...</td>\n      <td>...</td>\n      <td>...</td>\n      <td>...</td>\n      <td>...</td>\n      <td>...</td>\n    </tr>\n    <tr>\n      <th>1037687</th>\n      <td>B03282</td>\n      <td>2021-02-28 23:01:16</td>\n      <td>2021-02-28 23:14:48</td>\n      <td>-1</td>\n      <td>31</td>\n      <td>None</td>\n      <td>B01717</td>\n      <td>13.533333</td>\n      <td>2021/2_1037687</td>\n      <td>12.433246</td>\n    </tr>\n    <tr>\n      <th>1037688</th>\n      <td>B03282</td>\n      <td>2021-02-28 23:36:10</td>\n      <td>2021-02-28 23:47:38</td>\n      <td>-1</td>\n      <td>169</td>\n      <td>None</td>\n      <td>B01717</td>\n      <td>11.466667</td>\n      <td>2021/2_1037688</td>\n      <td>12.910885</td>\n    </tr>\n    <tr>\n      <th>1037689</th>\n      <td>B03285</td>\n      <td>2021-02-28 23:18:36</td>\n      <td>2021-02-28 23:43:59</td>\n      <td>28</td>\n      <td>171</td>\n      <td>None</td>\n      <td>B03285</td>\n      <td>25.383333</td>\n      <td>2021/2_1037689</td>\n      <td>15.834923</td>\n    </tr>\n    <tr>\n      <th>1037690</th>\n      <td>B03285</td>\n      <td>2021-02-28 23:26:34</td>\n      <td>2021-02-28 23:44:37</td>\n      <td>16</td>\n      <td>252</td>\n      <td>None</td>\n      <td>B03285</td>\n      <td>18.050000</td>\n      <td>2021/2_1037690</td>\n      <td>16.783176</td>\n    </tr>\n    <tr>\n      <th>1037691</th>\n      <td>B03285</td>\n      <td>2021-02-28 23:24:00</td>\n      <td>2021-02-28 23:40:00</td>\n      <td>171</td>\n      <td>135</td>\n      <td>None</td>\n      <td>B03285</td>\n      <td>16.000000</td>\n      <td>2021/2_1037691</td>\n      <td>19.654626</td>\n    </tr>\n  </tbody>\n</table>\n<p>990113 rows × 10 columns</p>\n</div>"
     },
     "execution_count": 12,
     "metadata": {},
     "output_type": "execute_result"
    }
   ],
   "source": [
    "df"
   ],
   "metadata": {
    "collapsed": false,
    "pycharm": {
     "name": "#%%\n"
    }
   }
  },
  {
   "cell_type": "code",
   "execution_count": 13,
   "outputs": [],
   "source": [
    "df[[\"ride_id\",\"pred\"]].to_parquet(\n",
    "    'output_file.parquet',\n",
    "    engine='pyarrow',\n",
    "    compression=None,\n",
    "    index=False\n",
    ")"
   ],
   "metadata": {
    "collapsed": false,
    "pycharm": {
     "name": "#%%\n"
    }
   }
  },
  {
   "cell_type": "code",
   "execution_count": 14,
   "outputs": [
    {
     "name": "stdout",
     "output_type": "stream",
     "text": [
      "[NbConvertApp] Converting notebook starter.ipynb to python\r\n",
      "[NbConvertApp] Writing 2032 bytes to starter.py\r\n"
     ]
    }
   ],
   "source": [
    "! jupyter nbconvert --to python starter.ipynb"
   ],
   "metadata": {
    "collapsed": false,
    "pycharm": {
     "name": "#%%\n"
    }
   }
  },
  {
   "cell_type": "code",
   "execution_count": 15,
   "outputs": [
    {
     "name": "stdout",
     "output_type": "stream",
     "text": [
      "Requirement already satisfied: pipenv in /Users/murathansaygili/Desktop/MLOpsZoomCamp/venv/lib/python3.9/site-packages (2022.6.7)\r\n",
      "Requirement already satisfied: virtualenv-clone>=0.2.5 in /Users/murathansaygili/Desktop/MLOpsZoomCamp/venv/lib/python3.9/site-packages (from pipenv) (0.5.7)\r\n",
      "Requirement already satisfied: setuptools>=36.2.1 in /Users/murathansaygili/Desktop/MLOpsZoomCamp/venv/lib/python3.9/site-packages (from pipenv) (49.2.1)\r\n",
      "Requirement already satisfied: pip>=22.0.4 in /Users/murathansaygili/Desktop/MLOpsZoomCamp/venv/lib/python3.9/site-packages (from pipenv) (22.1)\r\n",
      "Requirement already satisfied: certifi in /Users/murathansaygili/Desktop/MLOpsZoomCamp/venv/lib/python3.9/site-packages (from pipenv) (2022.5.18.1)\r\n",
      "Requirement already satisfied: virtualenv in /Users/murathansaygili/Desktop/MLOpsZoomCamp/venv/lib/python3.9/site-packages (from pipenv) (20.14.1)\r\n",
      "Requirement already satisfied: filelock<4,>=3.2 in /Users/murathansaygili/Desktop/MLOpsZoomCamp/venv/lib/python3.9/site-packages (from virtualenv->pipenv) (3.7.1)\r\n",
      "Requirement already satisfied: distlib<1,>=0.3.1 in /Users/murathansaygili/Desktop/MLOpsZoomCamp/venv/lib/python3.9/site-packages (from virtualenv->pipenv) (0.3.4)\r\n",
      "Requirement already satisfied: platformdirs<3,>=2 in /Users/murathansaygili/Desktop/MLOpsZoomCamp/venv/lib/python3.9/site-packages (from virtualenv->pipenv) (2.5.2)\r\n",
      "Requirement already satisfied: six<2,>=1.9.0 in /Users/murathansaygili/Desktop/MLOpsZoomCamp/venv/lib/python3.9/site-packages (from virtualenv->pipenv) (1.16.0)\r\n",
      "\u001B[33mWARNING: There was an error checking the latest version of pip.\u001B[0m\u001B[33m\r\n",
      "\u001B[0m"
     ]
    }
   ],
   "source": [
    "! pip install pipenv"
   ],
   "metadata": {
    "collapsed": false,
    "pycharm": {
     "name": "#%%\n"
    }
   }
  },
  {
   "cell_type": "markdown",
   "source": [
    "Hashes"
   ],
   "metadata": {
    "collapsed": false,
    "pycharm": {
     "name": "#%% md\n"
    }
   }
  },
  {
   "cell_type": "markdown",
   "source": [
    "\"scikit-learn\": {\n",
    "            \"hashes\": [\n",
    "                \"sha256:0403ad13f283e27d43b0ad875f187ec7f5d964903d92d1ed06c51439560ecea0\",\n",
    "                \"sha256:102f51797cd8944bf44a038d106848ddf2804f2c1edf7aea45fba81a4fdc4d80\",\n",
    "                \"sha256:22145b60fef02e597a8e7f061ebc7c51739215f11ce7fcd2ca9af22c31aa9f86\",\n",
    "                \"sha256:33cf061ed0b79d647a3e4c3f6c52c412172836718a7cd4d11c1318d083300133\","
   ],
   "metadata": {
    "collapsed": false,
    "pycharm": {
     "name": "#%% md\n"
    }
   }
  },
  {
   "cell_type": "code",
   "execution_count": 15,
   "outputs": [],
   "source": [],
   "metadata": {
    "collapsed": false,
    "pycharm": {
     "name": "#%%\n"
    }
   }
  }
 ],
 "metadata": {
  "kernelspec": {
   "display_name": "Python 3 (ipykernel)",
   "language": "python",
   "name": "python3"
  },
  "language_info": {
   "codemirror_mode": {
    "name": "ipython",
    "version": 3
   },
   "file_extension": ".py",
   "mimetype": "text/x-python",
   "name": "python",
   "nbconvert_exporter": "python",
   "pygments_lexer": "ipython3",
   "version": "3.9.7"
  }
 },
 "nbformat": 4,
 "nbformat_minor": 5
}